{
 "cells": [
  {
   "cell_type": "code",
   "execution_count": 6,
   "metadata": {},
   "outputs": [
    {
     "name": "stdout",
     "output_type": "stream",
     "text": [
      "Base64 Key Hash: vV9ceUBDv3mjfWz+z5+BXDvf/78=\n"
     ]
    }
   ],
   "source": [
    "import base64\n",
    "import binascii\n",
    "\n",
    "sha1_hex = \"bd:5f:5c:79:40:43:bf:79:a3:7d:6c:fe:cf:9f:81:5c:3b:df:ff:bf\"  # SHA1 값을 입력\n",
    "sha1_hex = sha1_hex.replace(\":\", \"\")\n",
    "sha1_bytes = binascii.unhexlify(sha1_hex)\n",
    "base64_encoded = base64.b64encode(sha1_bytes).decode()\n",
    "\n",
    "print(\"Base64 Key Hash:\", base64_encoded)"
   ]
  }
 ],
 "metadata": {
  "kernelspec": {
   "display_name": "Python 3",
   "language": "python",
   "name": "python3"
  },
  "language_info": {
   "codemirror_mode": {
    "name": "ipython",
    "version": 3
   },
   "file_extension": ".py",
   "mimetype": "text/x-python",
   "name": "python",
   "nbconvert_exporter": "python",
   "pygments_lexer": "ipython3",
   "version": "3.12.8"
  }
 },
 "nbformat": 4,
 "nbformat_minor": 2
}
